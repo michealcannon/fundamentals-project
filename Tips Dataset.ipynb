{
 "cells": [
  {
   "cell_type": "markdown",
   "metadata": {},
   "source": [
    "# 1. Introduction"
   ]
  },
  {
   "cell_type": "markdown",
   "metadata": {},
   "source": [
    "In a restaurant, a waiter recorded data on customers he served over a two month period in 1990. The dataset has been used to investigate relationships between certain measures such as tip, bill, size of party and sex of bill payer. In this project, I have analysed the data to answer the following questions:\n",
    "1. Is there a relationship between the bill and tip given? If so, what is its nature?\n",
    "2. Are there any other interesting relationships that emerge from the data?\n",
    "\n",
    "I used the following sources to inform my analysis: \n",
    "[These](https://seaborn.pydata.org/introduction.html) [three](https://medium.com/@mukul.mschauhan/data-visualisation-using-seaborn-464b7c0e5122) [sites](https://towardsdatascience.com/analyze-the-data-through-data-visualization-using-seaborn-255e1cd3948e) gave me some ideas as to what kind of plots might be suitable for the types of analysis I needed to do.\n",
    "This blog [post](http://rstudio-pubs-static.s3.amazonaws.com/128623_507fbe51532748f29278825fceedab85.html) and this case [study](https://dicook.public.iastate.edu/stat503/05/cs-tips2.pdf) influenced the direction I took with my analysis of the different variables.They convinced me that a relationship between the tip percentage and size of bill/size of party was an avenue worth exploring.\n",
    "\n",
    "\n",
    "\n"
   ]
  },
  {
   "cell_type": "markdown",
   "metadata": {},
   "source": [
    "# 2 Descriptive Statistics"
   ]
  },
  {
   "cell_type": "markdown",
   "metadata": {},
   "source": [
    "I first imported the tips dataset along with some packages I used to analyse it. "
   ]
  },
  {
   "cell_type": "code",
   "execution_count": 27,
   "metadata": {},
   "outputs": [
    {
     "data": {
      "text/html": [
       "<div>\n",
       "<style scoped>\n",
       "    .dataframe tbody tr th:only-of-type {\n",
       "        vertical-align: middle;\n",
       "    }\n",
       "\n",
       "    .dataframe tbody tr th {\n",
       "        vertical-align: top;\n",
       "    }\n",
       "\n",
       "    .dataframe thead th {\n",
       "        text-align: right;\n",
       "    }\n",
       "</style>\n",
       "<table border=\"1\" class=\"dataframe\">\n",
       "  <thead>\n",
       "    <tr style=\"text-align: right;\">\n",
       "      <th></th>\n",
       "      <th>total_bill</th>\n",
       "      <th>tip</th>\n",
       "      <th>sex</th>\n",
       "      <th>smoker</th>\n",
       "      <th>day</th>\n",
       "      <th>time</th>\n",
       "      <th>size</th>\n",
       "    </tr>\n",
       "  </thead>\n",
       "  <tbody>\n",
       "    <tr>\n",
       "      <th>0</th>\n",
       "      <td>16.99</td>\n",
       "      <td>1.01</td>\n",
       "      <td>Female</td>\n",
       "      <td>No</td>\n",
       "      <td>Sun</td>\n",
       "      <td>Dinner</td>\n",
       "      <td>2</td>\n",
       "    </tr>\n",
       "    <tr>\n",
       "      <th>1</th>\n",
       "      <td>10.34</td>\n",
       "      <td>1.66</td>\n",
       "      <td>Male</td>\n",
       "      <td>No</td>\n",
       "      <td>Sun</td>\n",
       "      <td>Dinner</td>\n",
       "      <td>3</td>\n",
       "    </tr>\n",
       "    <tr>\n",
       "      <th>2</th>\n",
       "      <td>21.01</td>\n",
       "      <td>3.50</td>\n",
       "      <td>Male</td>\n",
       "      <td>No</td>\n",
       "      <td>Sun</td>\n",
       "      <td>Dinner</td>\n",
       "      <td>3</td>\n",
       "    </tr>\n",
       "    <tr>\n",
       "      <th>3</th>\n",
       "      <td>23.68</td>\n",
       "      <td>3.31</td>\n",
       "      <td>Male</td>\n",
       "      <td>No</td>\n",
       "      <td>Sun</td>\n",
       "      <td>Dinner</td>\n",
       "      <td>2</td>\n",
       "    </tr>\n",
       "    <tr>\n",
       "      <th>4</th>\n",
       "      <td>24.59</td>\n",
       "      <td>3.61</td>\n",
       "      <td>Female</td>\n",
       "      <td>No</td>\n",
       "      <td>Sun</td>\n",
       "      <td>Dinner</td>\n",
       "      <td>4</td>\n",
       "    </tr>\n",
       "    <tr>\n",
       "      <th>5</th>\n",
       "      <td>25.29</td>\n",
       "      <td>4.71</td>\n",
       "      <td>Male</td>\n",
       "      <td>No</td>\n",
       "      <td>Sun</td>\n",
       "      <td>Dinner</td>\n",
       "      <td>4</td>\n",
       "    </tr>\n",
       "    <tr>\n",
       "      <th>6</th>\n",
       "      <td>8.77</td>\n",
       "      <td>2.00</td>\n",
       "      <td>Male</td>\n",
       "      <td>No</td>\n",
       "      <td>Sun</td>\n",
       "      <td>Dinner</td>\n",
       "      <td>2</td>\n",
       "    </tr>\n",
       "    <tr>\n",
       "      <th>7</th>\n",
       "      <td>26.88</td>\n",
       "      <td>3.12</td>\n",
       "      <td>Male</td>\n",
       "      <td>No</td>\n",
       "      <td>Sun</td>\n",
       "      <td>Dinner</td>\n",
       "      <td>4</td>\n",
       "    </tr>\n",
       "    <tr>\n",
       "      <th>8</th>\n",
       "      <td>15.04</td>\n",
       "      <td>1.96</td>\n",
       "      <td>Male</td>\n",
       "      <td>No</td>\n",
       "      <td>Sun</td>\n",
       "      <td>Dinner</td>\n",
       "      <td>2</td>\n",
       "    </tr>\n",
       "    <tr>\n",
       "      <th>9</th>\n",
       "      <td>14.78</td>\n",
       "      <td>3.23</td>\n",
       "      <td>Male</td>\n",
       "      <td>No</td>\n",
       "      <td>Sun</td>\n",
       "      <td>Dinner</td>\n",
       "      <td>2</td>\n",
       "    </tr>\n",
       "  </tbody>\n",
       "</table>\n",
       "</div>"
      ],
      "text/plain": [
       "   total_bill   tip     sex smoker  day    time  size\n",
       "0       16.99  1.01  Female     No  Sun  Dinner     2\n",
       "1       10.34  1.66    Male     No  Sun  Dinner     3\n",
       "2       21.01  3.50    Male     No  Sun  Dinner     3\n",
       "3       23.68  3.31    Male     No  Sun  Dinner     2\n",
       "4       24.59  3.61  Female     No  Sun  Dinner     4\n",
       "5       25.29  4.71    Male     No  Sun  Dinner     4\n",
       "6        8.77  2.00    Male     No  Sun  Dinner     2\n",
       "7       26.88  3.12    Male     No  Sun  Dinner     4\n",
       "8       15.04  1.96    Male     No  Sun  Dinner     2\n",
       "9       14.78  3.23    Male     No  Sun  Dinner     2"
      ]
     },
     "execution_count": 27,
     "metadata": {},
     "output_type": "execute_result"
    }
   ],
   "source": [
    "import numpy as np # import numpy package\n",
    "import matplotlib.pyplot as plt # import pyplot package from matplotlib\n",
    "import seaborn as sns # import seaborn package\n",
    "tips = sns.load_dataset(\"tips\") # import tips dataset from seaborn\n",
    "tips.head(10) # show first 10 rows of tips dataset"
   ]
  },
  {
   "cell_type": "markdown",
   "metadata": {},
   "source": [
    "Printing the first 10 rows of the dataset gives a feel for the data involved. We can see that, for each party, we know the total bill, tip given, size of party, day and time of reservation. There is also a column for \"sex\" and one for \"smoker\" in the dataset."
   ]
  },
  {
   "cell_type": "markdown",
   "metadata": {},
   "source": [
    "Some summary statistics about the dataset are shown below:"
   ]
  },
  {
   "cell_type": "code",
   "execution_count": 28,
   "metadata": {},
   "outputs": [
    {
     "data": {
      "text/html": [
       "<div>\n",
       "<style scoped>\n",
       "    .dataframe tbody tr th:only-of-type {\n",
       "        vertical-align: middle;\n",
       "    }\n",
       "\n",
       "    .dataframe tbody tr th {\n",
       "        vertical-align: top;\n",
       "    }\n",
       "\n",
       "    .dataframe thead th {\n",
       "        text-align: right;\n",
       "    }\n",
       "</style>\n",
       "<table border=\"1\" class=\"dataframe\">\n",
       "  <thead>\n",
       "    <tr style=\"text-align: right;\">\n",
       "      <th></th>\n",
       "      <th>total_bill</th>\n",
       "      <th>tip</th>\n",
       "      <th>size</th>\n",
       "    </tr>\n",
       "  </thead>\n",
       "  <tbody>\n",
       "    <tr>\n",
       "      <th>count</th>\n",
       "      <td>244.000000</td>\n",
       "      <td>244.000000</td>\n",
       "      <td>244.000000</td>\n",
       "    </tr>\n",
       "    <tr>\n",
       "      <th>mean</th>\n",
       "      <td>19.785943</td>\n",
       "      <td>2.998279</td>\n",
       "      <td>2.569672</td>\n",
       "    </tr>\n",
       "    <tr>\n",
       "      <th>std</th>\n",
       "      <td>8.902412</td>\n",
       "      <td>1.383638</td>\n",
       "      <td>0.951100</td>\n",
       "    </tr>\n",
       "    <tr>\n",
       "      <th>min</th>\n",
       "      <td>3.070000</td>\n",
       "      <td>1.000000</td>\n",
       "      <td>1.000000</td>\n",
       "    </tr>\n",
       "    <tr>\n",
       "      <th>25%</th>\n",
       "      <td>13.347500</td>\n",
       "      <td>2.000000</td>\n",
       "      <td>2.000000</td>\n",
       "    </tr>\n",
       "    <tr>\n",
       "      <th>50%</th>\n",
       "      <td>17.795000</td>\n",
       "      <td>2.900000</td>\n",
       "      <td>2.000000</td>\n",
       "    </tr>\n",
       "    <tr>\n",
       "      <th>75%</th>\n",
       "      <td>24.127500</td>\n",
       "      <td>3.562500</td>\n",
       "      <td>3.000000</td>\n",
       "    </tr>\n",
       "    <tr>\n",
       "      <th>max</th>\n",
       "      <td>50.810000</td>\n",
       "      <td>10.000000</td>\n",
       "      <td>6.000000</td>\n",
       "    </tr>\n",
       "  </tbody>\n",
       "</table>\n",
       "</div>"
      ],
      "text/plain": [
       "       total_bill         tip        size\n",
       "count  244.000000  244.000000  244.000000\n",
       "mean    19.785943    2.998279    2.569672\n",
       "std      8.902412    1.383638    0.951100\n",
       "min      3.070000    1.000000    1.000000\n",
       "25%     13.347500    2.000000    2.000000\n",
       "50%     17.795000    2.900000    2.000000\n",
       "75%     24.127500    3.562500    3.000000\n",
       "max     50.810000   10.000000    6.000000"
      ]
     },
     "execution_count": 28,
     "metadata": {},
     "output_type": "execute_result"
    }
   ],
   "source": [
    "tips.describe() # summary statistics of dataset"
   ]
  },
  {
   "cell_type": "markdown",
   "metadata": {},
   "source": [
    "We can see that the values for the total bill range from \\\\$3.07 to \\\\$50.81 with a mean bill of just under \\\\$20 and a median bill of just under $18. The values for tips range from \\\\$1 to \\\\$10 with an average tip of just under \\\\$3 and very similar median value. The histogram below gives us a visualisation of the distribution. We can see that the majority of the tips are between \\\\$2 and \\\\$4. The mean value for size is about 2.5; the smallest party was 1 and the largest was a party of 6."
   ]
  },
  {
   "cell_type": "code",
   "execution_count": 35,
   "metadata": {},
   "outputs": [
    {
     "data": {
      "text/plain": [
       "(array([41., 79., 66., 27., 19.,  5.,  4.,  1.,  1.,  1.]),\n",
       " array([ 1. ,  1.9,  2.8,  3.7,  4.6,  5.5,  6.4,  7.3,  8.2,  9.1, 10. ]),\n",
       " <a list of 10 Patch objects>)"
      ]
     },
     "execution_count": 35,
     "metadata": {},
     "output_type": "execute_result"
    },
    {
     "data": {
      "image/png": "[encoded data removed]",
      "text/plain": [
       "<Figure size 432x288 with 1 Axes>"
      ]
     },
     "metadata": {
      "needs_background": "light"
     },
     "output_type": "display_data"
    }
   ],
   "source": [
    "plt.hist(tips[\"tip\"]) # show histogram of \"tip\" column form dataset"
   ]
  },
  {
   "cell_type": "markdown",
   "metadata": {},
   "source": [
    "I was interested in the frequency of certain types of parties. I am wary of drawing inferences from data when the sample size is small, as is the case for some groups of data here. "
   ]
  },
  {
   "cell_type": "code",
   "execution_count": 36,
   "metadata": {},
   "outputs": [
    {
     "data": {
      "text/plain": [
       "size\n",
       "1      4\n",
       "2    156\n",
       "3     38\n",
       "4     37\n",
       "5      5\n",
       "6      4\n",
       "dtype: int64"
      ]
     },
     "execution_count": 36,
     "metadata": {},
     "output_type": "execute_result"
    }
   ],
   "source": [
    "tips.groupby('size').size() # count the frequency each value occurs in the \"size\" column. Adapted from https://erikrood.com/Python_References/count_frequency_value_occurs_dataframe_final.html"
   ]
  },
  {
   "cell_type": "code",
   "execution_count": 37,
   "metadata": {},
   "outputs": [
    {
     "data": {
      "text/plain": [
       "sex\n",
       "Male      157\n",
       "Female     87\n",
       "dtype: int64"
      ]
     },
     "execution_count": 37,
     "metadata": {},
     "output_type": "execute_result"
    }
   ],
   "source": [
    "tips.groupby(\"sex\").size()"
   ]
  },
  {
   "cell_type": "code",
   "execution_count": 38,
   "metadata": {},
   "outputs": [
    {
     "data": {
      "text/plain": [
       "day\n",
       "Thur    62\n",
       "Fri     19\n",
       "Sat     87\n",
       "Sun     76\n",
       "dtype: int64"
      ]
     },
     "execution_count": 38,
     "metadata": {},
     "output_type": "execute_result"
    }
   ],
   "source": [
    "tips.groupby(\"day\").size()"
   ]
  },
  {
   "cell_type": "code",
   "execution_count": 39,
   "metadata": {},
   "outputs": [
    {
     "data": {
      "text/plain": [
       "time\n",
       "Lunch      68\n",
       "Dinner    176\n",
       "dtype: int64"
      ]
     },
     "execution_count": 39,
     "metadata": {},
     "output_type": "execute_result"
    }
   ],
   "source": [
    "tips.groupby(\"time\").size()"
   ]
  },
  {
   "cell_type": "markdown",
   "metadata": {},
   "source": [
    "The above code shows that parties of two were by far the most common. Bills in the sample were paid by males twice as much as by females. The majority of the samples were collected at dinner time (176) as opposed to lunch time(68)."
   ]
  },
  {
   "cell_type": "markdown",
   "metadata": {},
   "source": [
    "# 3. Analysis of Relationship between Bill and Tip"
   ]
  },
  {
   "cell_type": "markdown",
   "metadata": {},
   "source": [
    "Given that standard practice in US restaurants is to leave a tip of between 15 and 20% of the bill, I would expect there to be a relationship between total bill and tip in the dataset. In this section I will analyse the data to investigate if this is the case."
   ]
  },
  {
   "cell_type": "markdown",
   "metadata": {},
   "source": [
    "First I wanted to have a look at the percentage tip given. I surmised that if this value was reasonably consistent around the 15-20% mark, then it was likely that a strong relationoship between bill and tip would emerge. I added a column \"percentage_tip\" to the dataframe which divided tip by total bill to get a percentage. "
   ]
  },
  {
   "cell_type": "code",
   "execution_count": null,
   "metadata": {},
   "outputs": [],
   "source": [
    "bill = tips.loc[: , \"total_bill\"] # return total_bill column from \"tips\" and assign to variable \"bill\"\n",
    "tip = tips.loc[:, \"tip\"] # return tip column from \"tips\" and assign to variable \"tip\"  adapted from https://pythonhow.com/accessing-dataframe-columns-rows-and-cells/\n",
    "tips['percentage_tip'] = tip/bill # add new column to \"tips\" that divides tip by bill to get percentage tip adapted from https://www.geeksforgeeks.org/adding-new-column-to-existing-dataframe-in-pandas/\n",
    "tips.head() # show first 5 lines of \"tips\""
   ]
  },
  {
   "cell_type": "markdown",
   "metadata": {},
   "source": [
    "The next piece of code describes the percentage tip column. We can see that the mean value is just over 15% and that half of all tips were between 13% and 19%. "
   ]
  },
  {
   "cell_type": "code",
   "execution_count": null,
   "metadata": {},
   "outputs": [],
   "source": [
    "tips[\"percentage_tip\"].describe() # summary statistics of  percentage tip column"
   ]
  },
  {
   "cell_type": "markdown",
   "metadata": {},
   "source": [
    "The histogram of the percentage tip shows that the vast majority of tips were between 10 and 25%"
   ]
  },
  {
   "cell_type": "code",
   "execution_count": null,
   "metadata": {},
   "outputs": [],
   "source": [
    "tips.hist( column =['percentage_tip'],) # show histogram of \"percentage tip\" column from dataset"
   ]
  },
  {
   "cell_type": "markdown",
   "metadata": {},
   "source": [
    "Next I created a scatterplot of total bill against tip. We can see what appears to be a linear relationship between the two variables, notwithstanding a few outliers in the bottom right quadrant in particular."
   ]
  },
  {
   "cell_type": "code",
   "execution_count": null,
   "metadata": {},
   "outputs": [],
   "source": [
    "sns.relplot(x=\"total_bill\", y=\"tip\", data=tips); # scatterplot of total bill(x axis) against tip(y axis) from data in tips dataset"
   ]
  },
  {
   "cell_type": "markdown",
   "metadata": {},
   "source": [
    "The next piece of code obtains a line of best fit and adds it to the scatterplot. "
   ]
  },
  {
   "cell_type": "code",
   "execution_count": null,
   "metadata": {},
   "outputs": [],
   "source": [
    "import numpy as np # import numpy package\n",
    "import matplotlib.pyplot as plt # import pyplot package from matplotlib\n",
    "# the following code adapted from notes in course video on regression \n",
    "## https://web.microsoftstream.com/video/021a0f49-a019-4119-a08c-7601a9a7d0b5?referrer=https:%2F%2Flearnonline.gmit.ie%2Fcourse%2Fview.php%3Fid%3D689\n",
    "b = tips[\"total_bill\"] # return \"total bill\" column as array and assign to variable b\n",
    "t = tips[\"tip\"] # return \"tips\" column as array and assign to variable t\n",
    "d = np.polyfit(b,t,1) # use polyfit function to return array containing values m and c to be used in line of best fit. Assign to variable d\n",
    "m = d[0] # return first value from array \"d\" and assign to variable m\n",
    "c = d[1] # return second value from array \"d\" and assign to variable c\n",
    "plt.scatter(b, t) # scatterplot of total bill against tips\n",
    "plt.plot(b,m*b +c) # plot line of best fit using values m and c obtained above"
   ]
  },
  {
   "cell_type": "markdown",
   "metadata": {},
   "source": [
    "My initial impression on viewing the plot is that there is indeed a correlation between total bill and tip which is linear in nature."
   ]
  },
  {
   "cell_type": "markdown",
   "metadata": {},
   "source": [
    "# 4. Analysis of Relationship between Variables"
   ]
  },
  {
   "cell_type": "markdown",
   "metadata": {},
   "source": [
    "We now investigate if there is a relationship between the total bill and tip percentage using the scatterplot below. "
   ]
  },
  {
   "cell_type": "code",
   "execution_count": null,
   "metadata": {},
   "outputs": [],
   "source": [
    "sns.relplot(x=\"total_bill\", y=\"percentage_tip\", data=tips); # scatterplot of total bill(x axis) against percentage tip(y axis) from data in tips dataset"
   ]
  },
  {
   "cell_type": "markdown",
   "metadata": {},
   "source": [
    "It seems as though higher bills tend to have a lower tip percentage but the relationship seems weak. We can try a line of best fit here. "
   ]
  },
  {
   "cell_type": "code",
   "execution_count": null,
   "metadata": {},
   "outputs": [],
   "source": [
    "p = tips[\"percentage_tip\"] # return \"percentage_tips\" column as array and assign to variable p\n",
    "d = np.polyfit(b,p,1) # use polyfit function to return array containing values m and c to be used in line of best fit. Assign to variable d\n",
    "m = d[0] # return first value from array \"d\" and assign to variable m\n",
    "c = d[1] # return second value from array \"d\" and assign to variable c\n",
    "plt.scatter(b, p) # scatterplot of total bill against percentage_tips\n",
    "plt.plot(b,m*b +c) # plot line of best fit using values m and c obtained above"
   ]
  },
  {
   "cell_type": "markdown",
   "metadata": {},
   "source": [
    "If higher bills tend to result in a lower percentage tip what could be the reason for this? Do people tip less because the bill is more expensive? Or could it be that people tip less when in larger groups? Interestingly, when we look at mean tip percentage by group size, we find that it is decreasing as the group size increases (with the sole exception of groups of 6)"
   ]
  },
  {
   "cell_type": "code",
   "execution_count": null,
   "metadata": {},
   "outputs": [],
   "source": [
    "tips.groupby(\"size\").mean() # disply mean of each column grouped by table size"
   ]
  },
  {
   "cell_type": "markdown",
   "metadata": {},
   "source": [
    "We try a scatterplot here to look at the relationship and assign a line of best fit."
   ]
  },
  {
   "cell_type": "code",
   "execution_count": null,
   "metadata": {},
   "outputs": [],
   "source": [
    "s = tips[\"size\"]\n",
    "d = np.polyfit(s,p,1) # use polyfit function to return array containing values m and c to be used in line of best fit. Assign to variable d\n",
    "m = d[0] # return first value from array \"d\" and assign to variable m\n",
    "c = d[1] # return second value from array \"d\" and assign to variable c\n",
    "plt.scatter(s, p) # scatterplot of total bill against percentage_tips\n",
    "plt.plot(s,m*s +c) # plot line of best fit using values m and c obtained above"
   ]
  },
  {
   "cell_type": "code",
   "execution_count": null,
   "metadata": {},
   "outputs": [],
   "source": [
    "sns.relplot(x=\"size\", y=\"percentage_tip\",hue = \"sex\", data=tips); # scatterplot of size of group(x axis) against percentage tip(y axis) from data in tips dataset"
   ]
  },
  {
   "cell_type": "markdown",
   "metadata": {},
   "source": [
    "I became interested in the question \"What makes people give the tip that they give?\" I wondered whether much of the variation in tip size was to do with convenience. Some people like to tip in round numbers. Some like to pay in round numbers and leave the change as a tip. Some, presumably, like to leave an exact percentage, be it 15 or 20. I decided to do some analysis on how much of tipping is predicated on these round numbers. "
   ]
  },
  {
   "cell_type": "markdown",
   "metadata": {},
   "source": [
    "I plotted a histogram of tip size. The spikes on the plot show that many people like to give round numbers as tips. Note the spikes around the whole number values 1-5 particularly."
   ]
  },
  {
   "cell_type": "code",
   "execution_count": null,
   "metadata": {},
   "outputs": [],
   "source": [
    "sns.distplot(tips['tip'], kde=False, bins=100);\n"
   ]
  },
  {
   "cell_type": "markdown",
   "metadata": {},
   "source": [
    "I added a new column, \"cash tendered\", that adds bill to tip given . I expected this value to be a round number in many cases"
   ]
  },
  {
   "cell_type": "code",
   "execution_count": null,
   "metadata": {},
   "outputs": [],
   "source": [
    "tips['cash_tendered'] = tip + bill # add new column to \"tips\" that adds tip to bill to get amount paid in by diner adapted from https://www.geeksforgeeks.org/adding-new-column-to-existing-dataframe-in-pandas/\n",
    "tips.head() # show first 5 lines of \"tips\""
   ]
  },
  {
   "cell_type": "markdown",
   "metadata": {},
   "source": [
    "The following code plots a histogram of cash tendered. As expected, there are spikes around whole number values, in particular 15, 17, 18 and 20"
   ]
  },
  {
   "cell_type": "code",
   "execution_count": null,
   "metadata": {},
   "outputs": [],
   "source": [
    "sns.distplot(tips['cash_tendered'], kde=False, bins=500);\n",
    "plt.xlim(10,25) # set x axis limits between 10 and 25; adapted from https://python-graph-gallery.com/44-control-axis-limits-of-plot-seaborn/\n"
   ]
  },
  {
   "cell_type": "markdown",
   "metadata": {},
   "source": [
    "# 5. Conclusion"
   ]
  },
  {
   "cell_type": "markdown",
   "metadata": {},
   "source": [
    "In analysing a dataset such as this, there is a danger that an uncritical look at many combinations of variables will throw up some spurious relationships. The analyses I looked at included statements such as \"Female smokers are very consistent tippers\" and \"In parties of size 1, the sex of the bill payer depends on the day of the week\". To be fair, the case study that contained these statements stated \"There should be no temptation to\n",
    "make inference from the data, and emphasis should be on poking around the data to formulate hypotheses\". It is in this spirit that I chose the analysis that I did. I was looking for relationships that sounded plausible and may reward further exploration. That there is a relationship between bill paid and tip given is unsurprising and is likely to replicate in  other studies. The finding of a relationships between size of bill/party and tip percentage does not seem as robust, but further study of this question would be interesting."
   ]
  },
  {
   "cell_type": "code",
   "execution_count": null,
   "metadata": {},
   "outputs": [],
   "source": [
    "tips.groupby(\"day\").mean()"
   ]
  },
  {
   "cell_type": "markdown",
   "metadata": {},
   "source": [
    "# References"
   ]
  },
  {
   "cell_type": "markdown",
   "metadata": {},
   "source": [
    "## Plotting the data\n",
    "\n",
    "https://towardsdatascience.com/analyze-the-data-through-data-visualization-using-seaborn-255e1cd3948e   \n",
    "https://grindsquare.co.za/python-data-visualisation-using-seaborn/   \n",
    "https://data-and-design.readthedocs.io/en/latest/02-introPandas.html   \n",
    "https://medium.com/@mukul.mschauhan/data-visualisation-using-seaborn-464b7c0e5122   \n",
    "https://seaborn.pydata.org/tutorial/relational.html\n",
    "\n",
    "## Analysis of relationships\n",
    "https://dicook.public.iastate.edu/stat503/05/cs-tips2.pdf  \n",
    "http://rstudio-pubs-static.s3.amazonaws.com/128623_507fbe51532748f29278825fceedab85.html\n",
    "\n",
    "## Markdown\n",
    "https://markdownmonster.west-wind.com/docs/_4xs10gaui.htm (embedding links)  \n",
    "https://stackoverflow.com/questions/16089089/escaping-dollar-sign-in-ipython-notebook (rendering dollar values)\n",
    "\n",
    "## General\n",
    "https://www.aarp.org/money/budgeting-saving/info-11-2012/tipping-guidelines-and-etiquette.html (tipping etiquette)\n",
    "\n",
    "Sources used for code referenced in code comments.\n",
    "\n"
   ]
  },
  {
   "cell_type": "code",
   "execution_count": null,
   "metadata": {},
   "outputs": [],
   "source": []
  }
 ],
 "metadata": {
  "kernelspec": {
   "display_name": "Python 3",
   "language": "python",
   "name": "python3"
  },
  "language_info": {
   "codemirror_mode": {
    "name": "ipython",
    "version": 3
   },
   "file_extension": ".py",
   "mimetype": "text/x-python",
   "name": "python",
   "nbconvert_exporter": "python",
   "pygments_lexer": "ipython3",
   "version": "3.7.1"
  }
 },
 "nbformat": 4,
 "nbformat_minor": 2
}
